{
  "nbformat": 4,
  "nbformat_minor": 0,
  "metadata": {
    "colab": {
      "name": "Fashion_MNIST_Analytics_Vidya.ipynb",
      "provenance": [],
      "collapsed_sections": []
    },
    "kernelspec": {
      "name": "python3",
      "display_name": "Python 3"
    },
    "accelerator": "GPU"
  },
  "cells": [
    {
      "cell_type": "markdown",
      "metadata": {
        "id": "Oy3sjqKUPb0s",
        "colab_type": "text"
      },
      "source": [
        "## Importing libraries"
      ]
    },
    {
      "cell_type": "code",
      "metadata": {
        "id": "RyiQgWKfz9gi",
        "colab_type": "code",
        "colab": {}
      },
      "source": [
        "import numpy as np\n",
        "import pandas as pd"
      ],
      "execution_count": null,
      "outputs": []
    },
    {
      "cell_type": "markdown",
      "metadata": {
        "id": "usqHFZlEPiF8",
        "colab_type": "text"
      },
      "source": [
        "## Making new directory"
      ]
    },
    {
      "cell_type": "code",
      "metadata": {
        "id": "ufDUH001UVid",
        "colab_type": "code",
        "colab": {}
      },
      "source": [
        "!mkdir fashion_mnist_test\n",
        "!mkdir fashion_mnist_train"
      ],
      "execution_count": null,
      "outputs": []
    },
    {
      "cell_type": "markdown",
      "metadata": {
        "id": "k76kfJ-_Uad1",
        "colab_type": "text"
      },
      "source": [
        "## Unziping the data"
      ]
    },
    {
      "cell_type": "code",
      "metadata": {
        "id": "4__8JNeZUd_8",
        "colab_type": "code",
        "colab": {}
      },
      "source": [
        "!unzip test.zip -d fashion_mnist_test"
      ],
      "execution_count": null,
      "outputs": []
    },
    {
      "cell_type": "code",
      "metadata": {
        "id": "tyW7Wwg8Ub1k",
        "colab_type": "code",
        "colab": {}
      },
      "source": [
        "!unzip train.zip -d fashion_mnist_train"
      ],
      "execution_count": null,
      "outputs": []
    },
    {
      "cell_type": "markdown",
      "metadata": {
        "id": "uv3BJDASPuz6",
        "colab_type": "text"
      },
      "source": [
        "## Images in the train and test set "
      ]
    },
    {
      "cell_type": "code",
      "metadata": {
        "id": "JeJeyGW8i9Bz",
        "colab_type": "code",
        "colab": {
          "base_uri": "https://localhost:8080/",
          "height": 51
        },
        "outputId": "c43d3a3d-560e-4608-b20c-ca8ddc7d8c50"
      },
      "source": [
        "import os\n",
        "\n",
        "print(len(os.listdir('/content/fashion_mnist_train/train')))\n",
        "print(len(os.listdir('/content/fashion_mnist_test/test')))"
      ],
      "execution_count": null,
      "outputs": [
        {
          "output_type": "stream",
          "text": [
            "60000\n",
            "10000\n"
          ],
          "name": "stdout"
        }
      ]
    },
    {
      "cell_type": "code",
      "metadata": {
        "id": "pA-xvSSEnSqe",
        "colab_type": "code",
        "colab": {}
      },
      "source": [
        "train=pd.read_csv('/content/train.csv')\n",
        "test=pd.read_csv('/content/test.csv')\n"
      ],
      "execution_count": null,
      "outputs": []
    },
    {
      "cell_type": "code",
      "metadata": {
        "id": "buZBgrDtoubz",
        "colab_type": "code",
        "colab": {
          "base_uri": "https://localhost:8080/",
          "height": 204
        },
        "outputId": "e24f5c4b-0a04-4943-9ca3-02c919ca64ec"
      },
      "source": [
        "train.head()"
      ],
      "execution_count": null,
      "outputs": [
        {
          "output_type": "execute_result",
          "data": {
            "text/html": [
              "<div>\n",
              "<style scoped>\n",
              "    .dataframe tbody tr th:only-of-type {\n",
              "        vertical-align: middle;\n",
              "    }\n",
              "\n",
              "    .dataframe tbody tr th {\n",
              "        vertical-align: top;\n",
              "    }\n",
              "\n",
              "    .dataframe thead th {\n",
              "        text-align: right;\n",
              "    }\n",
              "</style>\n",
              "<table border=\"1\" class=\"dataframe\">\n",
              "  <thead>\n",
              "    <tr style=\"text-align: right;\">\n",
              "      <th></th>\n",
              "      <th>id</th>\n",
              "      <th>label</th>\n",
              "    </tr>\n",
              "  </thead>\n",
              "  <tbody>\n",
              "    <tr>\n",
              "      <th>0</th>\n",
              "      <td>1</td>\n",
              "      <td>9</td>\n",
              "    </tr>\n",
              "    <tr>\n",
              "      <th>1</th>\n",
              "      <td>2</td>\n",
              "      <td>0</td>\n",
              "    </tr>\n",
              "    <tr>\n",
              "      <th>2</th>\n",
              "      <td>3</td>\n",
              "      <td>0</td>\n",
              "    </tr>\n",
              "    <tr>\n",
              "      <th>3</th>\n",
              "      <td>4</td>\n",
              "      <td>3</td>\n",
              "    </tr>\n",
              "    <tr>\n",
              "      <th>4</th>\n",
              "      <td>5</td>\n",
              "      <td>0</td>\n",
              "    </tr>\n",
              "  </tbody>\n",
              "</table>\n",
              "</div>"
            ],
            "text/plain": [
              "   id  label\n",
              "0   1      9\n",
              "1   2      0\n",
              "2   3      0\n",
              "3   4      3\n",
              "4   5      0"
            ]
          },
          "metadata": {
            "tags": []
          },
          "execution_count": 49
        }
      ]
    },
    {
      "cell_type": "code",
      "metadata": {
        "id": "P-rH37xHydX8",
        "colab_type": "code",
        "colab": {
          "base_uri": "https://localhost:8080/",
          "height": 204
        },
        "outputId": "08741680-8ef3-4fe1-fe30-174c58d2f1e0"
      },
      "source": [
        "test.head()"
      ],
      "execution_count": null,
      "outputs": [
        {
          "output_type": "execute_result",
          "data": {
            "text/html": [
              "<div>\n",
              "<style scoped>\n",
              "    .dataframe tbody tr th:only-of-type {\n",
              "        vertical-align: middle;\n",
              "    }\n",
              "\n",
              "    .dataframe tbody tr th {\n",
              "        vertical-align: top;\n",
              "    }\n",
              "\n",
              "    .dataframe thead th {\n",
              "        text-align: right;\n",
              "    }\n",
              "</style>\n",
              "<table border=\"1\" class=\"dataframe\">\n",
              "  <thead>\n",
              "    <tr style=\"text-align: right;\">\n",
              "      <th></th>\n",
              "      <th>id</th>\n",
              "    </tr>\n",
              "  </thead>\n",
              "  <tbody>\n",
              "    <tr>\n",
              "      <th>0</th>\n",
              "      <td>60001</td>\n",
              "    </tr>\n",
              "    <tr>\n",
              "      <th>1</th>\n",
              "      <td>60002</td>\n",
              "    </tr>\n",
              "    <tr>\n",
              "      <th>2</th>\n",
              "      <td>60003</td>\n",
              "    </tr>\n",
              "    <tr>\n",
              "      <th>3</th>\n",
              "      <td>60004</td>\n",
              "    </tr>\n",
              "    <tr>\n",
              "      <th>4</th>\n",
              "      <td>60005</td>\n",
              "    </tr>\n",
              "  </tbody>\n",
              "</table>\n",
              "</div>"
            ],
            "text/plain": [
              "      id\n",
              "0  60001\n",
              "1  60002\n",
              "2  60003\n",
              "3  60004\n",
              "4  60005"
            ]
          },
          "metadata": {
            "tags": []
          },
          "execution_count": 53
        }
      ]
    },
    {
      "cell_type": "code",
      "metadata": {
        "id": "1uDCjeYhpRMq",
        "colab_type": "code",
        "colab": {
          "base_uri": "https://localhost:8080/",
          "height": 34
        },
        "outputId": "fe4132b3-1841-4cdf-9808-2d691e22a0d1"
      },
      "source": [
        "train.label.unique()"
      ],
      "execution_count": null,
      "outputs": [
        {
          "output_type": "execute_result",
          "data": {
            "text/plain": [
              "array([9, 0, 3, 2, 7, 5, 1, 6, 4, 8])"
            ]
          },
          "metadata": {
            "tags": []
          },
          "execution_count": 50
        }
      ]
    },
    {
      "cell_type": "code",
      "metadata": {
        "id": "XU2Qcqa0sYcF",
        "colab_type": "code",
        "colab": {}
      },
      "source": [
        "train.id=train.id.astype(str)\n",
        "train.label=train.label.astype(str)\n",
        "test.id=test.id.astype(str)"
      ],
      "execution_count": null,
      "outputs": []
    },
    {
      "cell_type": "code",
      "metadata": {
        "id": "26hr5H62wtKJ",
        "colab_type": "code",
        "colab": {}
      },
      "source": [
        "for i in range(len(train)):\n",
        "  train.iloc[i,0]=train.iloc[i,0]+'.png'"
      ],
      "execution_count": null,
      "outputs": []
    },
    {
      "cell_type": "code",
      "metadata": {
        "id": "1VO0zfyDyU5a",
        "colab_type": "code",
        "colab": {}
      },
      "source": [
        "for i in range(len(test)):\n",
        "  test.iloc[i,0]=test.iloc[i,0]+'.png'"
      ],
      "execution_count": null,
      "outputs": []
    },
    {
      "cell_type": "code",
      "metadata": {
        "id": "ejwVhVTuu14L",
        "colab_type": "code",
        "colab": {}
      },
      "source": [
        "train=train.rename(columns={'id':'filename'})"
      ],
      "execution_count": null,
      "outputs": []
    },
    {
      "cell_type": "code",
      "metadata": {
        "id": "CY1E2Xj6vJ5F",
        "colab_type": "code",
        "colab": {
          "base_uri": "https://localhost:8080/",
          "height": 204
        },
        "outputId": "19376948-ffe1-4662-d083-5b13ad3bfac0"
      },
      "source": [
        "train.head()"
      ],
      "execution_count": null,
      "outputs": [
        {
          "output_type": "execute_result",
          "data": {
            "text/html": [
              "<div>\n",
              "<style scoped>\n",
              "    .dataframe tbody tr th:only-of-type {\n",
              "        vertical-align: middle;\n",
              "    }\n",
              "\n",
              "    .dataframe tbody tr th {\n",
              "        vertical-align: top;\n",
              "    }\n",
              "\n",
              "    .dataframe thead th {\n",
              "        text-align: right;\n",
              "    }\n",
              "</style>\n",
              "<table border=\"1\" class=\"dataframe\">\n",
              "  <thead>\n",
              "    <tr style=\"text-align: right;\">\n",
              "      <th></th>\n",
              "      <th>filename</th>\n",
              "      <th>label</th>\n",
              "    </tr>\n",
              "  </thead>\n",
              "  <tbody>\n",
              "    <tr>\n",
              "      <th>0</th>\n",
              "      <td>1.png</td>\n",
              "      <td>9</td>\n",
              "    </tr>\n",
              "    <tr>\n",
              "      <th>1</th>\n",
              "      <td>2.png</td>\n",
              "      <td>0</td>\n",
              "    </tr>\n",
              "    <tr>\n",
              "      <th>2</th>\n",
              "      <td>3.png</td>\n",
              "      <td>0</td>\n",
              "    </tr>\n",
              "    <tr>\n",
              "      <th>3</th>\n",
              "      <td>4.png</td>\n",
              "      <td>3</td>\n",
              "    </tr>\n",
              "    <tr>\n",
              "      <th>4</th>\n",
              "      <td>5.png</td>\n",
              "      <td>0</td>\n",
              "    </tr>\n",
              "  </tbody>\n",
              "</table>\n",
              "</div>"
            ],
            "text/plain": [
              "  filename label\n",
              "0    1.png     9\n",
              "1    2.png     0\n",
              "2    3.png     0\n",
              "3    4.png     3\n",
              "4    5.png     0"
            ]
          },
          "metadata": {
            "tags": []
          },
          "execution_count": 60
        }
      ]
    },
    {
      "cell_type": "code",
      "metadata": {
        "id": "Rrw_2Sd0vUUU",
        "colab_type": "code",
        "colab": {}
      },
      "source": [
        "test=test.rename(columns={'id':'filename'})"
      ],
      "execution_count": null,
      "outputs": []
    },
    {
      "cell_type": "code",
      "metadata": {
        "id": "_8HctbQ6owqe",
        "colab_type": "code",
        "colab": {
          "base_uri": "https://localhost:8080/",
          "height": 204
        },
        "outputId": "b3b3124e-b710-421b-adbd-0732b088109a"
      },
      "source": [
        "test.head()"
      ],
      "execution_count": null,
      "outputs": [
        {
          "output_type": "execute_result",
          "data": {
            "text/html": [
              "<div>\n",
              "<style scoped>\n",
              "    .dataframe tbody tr th:only-of-type {\n",
              "        vertical-align: middle;\n",
              "    }\n",
              "\n",
              "    .dataframe tbody tr th {\n",
              "        vertical-align: top;\n",
              "    }\n",
              "\n",
              "    .dataframe thead th {\n",
              "        text-align: right;\n",
              "    }\n",
              "</style>\n",
              "<table border=\"1\" class=\"dataframe\">\n",
              "  <thead>\n",
              "    <tr style=\"text-align: right;\">\n",
              "      <th></th>\n",
              "      <th>filename</th>\n",
              "    </tr>\n",
              "  </thead>\n",
              "  <tbody>\n",
              "    <tr>\n",
              "      <th>0</th>\n",
              "      <td>60001.png</td>\n",
              "    </tr>\n",
              "    <tr>\n",
              "      <th>1</th>\n",
              "      <td>60002.png</td>\n",
              "    </tr>\n",
              "    <tr>\n",
              "      <th>2</th>\n",
              "      <td>60003.png</td>\n",
              "    </tr>\n",
              "    <tr>\n",
              "      <th>3</th>\n",
              "      <td>60004.png</td>\n",
              "    </tr>\n",
              "    <tr>\n",
              "      <th>4</th>\n",
              "      <td>60005.png</td>\n",
              "    </tr>\n",
              "  </tbody>\n",
              "</table>\n",
              "</div>"
            ],
            "text/plain": [
              "    filename\n",
              "0  60001.png\n",
              "1  60002.png\n",
              "2  60003.png\n",
              "3  60004.png\n",
              "4  60005.png"
            ]
          },
          "metadata": {
            "tags": []
          },
          "execution_count": 62
        }
      ]
    },
    {
      "cell_type": "markdown",
      "metadata": {
        "id": "-7LcHfuGP5QD",
        "colab_type": "text"
      },
      "source": [
        "## Using data flow from dataframe and model builidng"
      ]
    },
    {
      "cell_type": "code",
      "metadata": {
        "id": "3V-X5a7WjxRD",
        "colab_type": "code",
        "colab": {
          "base_uri": "https://localhost:8080/",
          "height": 476
        },
        "outputId": "0cfa4810-3804-492d-a2c0-9fa991daef44"
      },
      "source": [
        "# flow from dataframe\n",
        "\n",
        "import keras\n",
        "from keras.preprocessing.image import ImageDataGenerator\n",
        "from keras.layers import Dense, Flatten,Conv2D,MaxPooling2D\n",
        "from keras.models import Sequential\n",
        "\n",
        "\n",
        "train_datagen=ImageDataGenerator(rescale=1.0/255.0,validation_split=0.20)\n",
        "test_datagen=ImageDataGenerator(rescale=1.0/255.0)\n",
        "\n",
        "train_generator= train_datagen.flow_from_dataframe(dataframe=train,directory='/content/fashion_mnist_train/train',\n",
        "                                                   x_col='filename',\n",
        "                                                   y_col='label',\n",
        "                                                   seed=7,\n",
        "                                                   shuffle=True,\n",
        "                                                   subset='training',\n",
        "                                                   class_mode='categorical',\n",
        "                                                   target_size=(28,28),batch_size=32)\n",
        "\n",
        "test_generator= test_datagen.flow_from_dataframe(dataframe=test,directory='/content/fashion_mnist_test/test',\n",
        "                                                   x_col='filename',\n",
        "                                                   y_col='label',\n",
        "                                                   seed=7,\n",
        "                                                   shuffle=False,\n",
        "                                                   class_mode=None,\n",
        "                                                   target_size=(28,28),batch_size=32,)\n",
        "\n",
        "val_generator= train_datagen.flow_from_dataframe(dataframe=train,directory='/content/fashion_mnist_train/train',\n",
        "                                                   x_col='filename',\n",
        "                                                   y_col='label',\n",
        "                                                   seed=7,\n",
        "                                                   shuffle=True,\n",
        "                                                   subset='validation',\n",
        "                                                   class_mode='categorical',\n",
        "                                                   target_size=(28,28),batch_size=32)\n",
        "\n",
        "\n",
        "model=Sequential([Conv2D(32,(3,3),activation='relu',input_shape=(28,28,3),padding='same'),\n",
        "                  MaxPooling2D(),\n",
        "                  Conv2D(32,(3,3),activation='relu',padding='same'),\n",
        "                  MaxPooling2D(),\n",
        "                  Flatten(),\n",
        "                  Dense(1000,activation='relu'),\n",
        "                  Dense(512,activation='relu'),\n",
        "                  Dense(10,activation='softmax')])\n",
        "model.compile(optimizer='adam',loss='categorical_crossentropy',metrics=['accuracy'])\n",
        "model.summary()\n"
      ],
      "execution_count": null,
      "outputs": [
        {
          "output_type": "stream",
          "text": [
            "Found 48000 validated image filenames belonging to 10 classes.\n",
            "Found 10000 validated image filenames.\n",
            "Found 12000 validated image filenames belonging to 10 classes.\n",
            "Model: \"sequential_14\"\n",
            "_________________________________________________________________\n",
            "Layer (type)                 Output Shape              Param #   \n",
            "=================================================================\n",
            "conv2d_14 (Conv2D)           (None, 28, 28, 32)        896       \n",
            "_________________________________________________________________\n",
            "max_pooling2d_14 (MaxPooling (None, 14, 14, 32)        0         \n",
            "_________________________________________________________________\n",
            "conv2d_15 (Conv2D)           (None, 14, 14, 32)        9248      \n",
            "_________________________________________________________________\n",
            "max_pooling2d_15 (MaxPooling (None, 7, 7, 32)          0         \n",
            "_________________________________________________________________\n",
            "flatten_14 (Flatten)         (None, 1568)              0         \n",
            "_________________________________________________________________\n",
            "dense_42 (Dense)             (None, 1000)              1569000   \n",
            "_________________________________________________________________\n",
            "dense_43 (Dense)             (None, 512)               512512    \n",
            "_________________________________________________________________\n",
            "dense_44 (Dense)             (None, 10)                5130      \n",
            "=================================================================\n",
            "Total params: 2,096,786\n",
            "Trainable params: 2,096,786\n",
            "Non-trainable params: 0\n",
            "_________________________________________________________________\n"
          ],
          "name": "stdout"
        }
      ]
    },
    {
      "cell_type": "markdown",
      "metadata": {
        "id": "i5eqv6ZUQEys",
        "colab_type": "text"
      },
      "source": [
        "## Training the model"
      ]
    },
    {
      "cell_type": "code",
      "metadata": {
        "id": "QNAVJulVmdBg",
        "colab_type": "code",
        "colab": {
          "base_uri": "https://localhost:8080/",
          "height": 357
        },
        "outputId": "fcc3715c-0541-4c39-9542-a318f2d2d0f8"
      },
      "source": [
        "history=model.fit(train_generator,epochs=10,verbose=1,validation_data=val_generator)"
      ],
      "execution_count": null,
      "outputs": [
        {
          "output_type": "stream",
          "text": [
            "Epoch 1/10\n",
            "1500/1500 [==============================] - 17s 11ms/step - loss: 0.3906 - accuracy: 0.8570 - val_loss: 0.2803 - val_accuracy: 0.8937\n",
            "Epoch 2/10\n",
            "1500/1500 [==============================] - 17s 11ms/step - loss: 0.2614 - accuracy: 0.9024 - val_loss: 0.2779 - val_accuracy: 0.8987\n",
            "Epoch 3/10\n",
            "1500/1500 [==============================] - 17s 11ms/step - loss: 0.2162 - accuracy: 0.9184 - val_loss: 0.2371 - val_accuracy: 0.9118\n",
            "Epoch 4/10\n",
            "1500/1500 [==============================] - 17s 12ms/step - loss: 0.1810 - accuracy: 0.9314 - val_loss: 0.2289 - val_accuracy: 0.9197\n",
            "Epoch 5/10\n",
            "1500/1500 [==============================] - 18s 12ms/step - loss: 0.1476 - accuracy: 0.9454 - val_loss: 0.2388 - val_accuracy: 0.9206\n",
            "Epoch 6/10\n",
            "1500/1500 [==============================] - 18s 12ms/step - loss: 0.1225 - accuracy: 0.9532 - val_loss: 0.2796 - val_accuracy: 0.9202\n",
            "Epoch 7/10\n",
            "1500/1500 [==============================] - 17s 12ms/step - loss: 0.1008 - accuracy: 0.9621 - val_loss: 0.2695 - val_accuracy: 0.9194\n",
            "Epoch 8/10\n",
            "1500/1500 [==============================] - 17s 11ms/step - loss: 0.0831 - accuracy: 0.9685 - val_loss: 0.2962 - val_accuracy: 0.9191\n",
            "Epoch 9/10\n",
            "1500/1500 [==============================] - 17s 12ms/step - loss: 0.0692 - accuracy: 0.9744 - val_loss: 0.3792 - val_accuracy: 0.9183\n",
            "Epoch 10/10\n",
            "1500/1500 [==============================] - 17s 11ms/step - loss: 0.0600 - accuracy: 0.9774 - val_loss: 0.3853 - val_accuracy: 0.9182\n"
          ],
          "name": "stdout"
        }
      ]
    },
    {
      "cell_type": "markdown",
      "metadata": {
        "id": "wQq9CFwCQIjk",
        "colab_type": "text"
      },
      "source": [
        "## Evaluation on validation data"
      ]
    },
    {
      "cell_type": "code",
      "metadata": {
        "id": "ah5P1WPMtAEi",
        "colab_type": "code",
        "colab": {
          "base_uri": "https://localhost:8080/",
          "height": 34
        },
        "outputId": "0f3ff527-b60f-4810-d2e6-0cce18d7dc62"
      },
      "source": [
        "model.evaluate_generator(val_generator)"
      ],
      "execution_count": null,
      "outputs": [
        {
          "output_type": "execute_result",
          "data": {
            "text/plain": [
              "[0.3852987587451935, 0.9181666374206543]"
            ]
          },
          "metadata": {
            "tags": []
          },
          "execution_count": 81
        }
      ]
    },
    {
      "cell_type": "markdown",
      "metadata": {
        "id": "vr1XdMgDQM6D",
        "colab_type": "text"
      },
      "source": [
        "## Predictions on test images"
      ]
    },
    {
      "cell_type": "code",
      "metadata": {
        "id": "IBqPFoLkwZhr",
        "colab_type": "code",
        "colab": {
          "base_uri": "https://localhost:8080/",
          "height": 289
        },
        "outputId": "56267047-9c8d-4fcb-9f2b-19d5d732e69d"
      },
      "source": [
        "prediction=model.predict_generator(test_generator)\n",
        "prediction"
      ],
      "execution_count": null,
      "outputs": [
        {
          "output_type": "stream",
          "text": [
            "WARNING:tensorflow:From <ipython-input-82-06cb947072da>:1: Model.predict_generator (from tensorflow.python.keras.engine.training) is deprecated and will be removed in a future version.\n",
            "Instructions for updating:\n",
            "Please use Model.predict, which supports generators.\n"
          ],
          "name": "stdout"
        },
        {
          "output_type": "execute_result",
          "data": {
            "text/plain": [
              "array([[1.6653150e-21, 1.8791116e-21, 1.7123535e-22, ..., 4.9344074e-13,\n",
              "        4.4660059e-22, 1.0000000e+00],\n",
              "       [3.3278624e-08, 1.0610140e-13, 9.9999523e-01, ..., 5.9507817e-15,\n",
              "        1.1014708e-11, 4.0496769e-18],\n",
              "       [0.0000000e+00, 1.0000000e+00, 0.0000000e+00, ..., 0.0000000e+00,\n",
              "        0.0000000e+00, 0.0000000e+00],\n",
              "       ...,\n",
              "       [8.4413848e-26, 0.0000000e+00, 1.2963549e-29, ..., 8.5766874e-30,\n",
              "        1.0000000e+00, 6.0690822e-30],\n",
              "       [0.0000000e+00, 1.0000000e+00, 2.6194371e-37, ..., 0.0000000e+00,\n",
              "        0.0000000e+00, 0.0000000e+00],\n",
              "       [5.1301154e-03, 8.2443499e-08, 9.4083342e-04, ..., 5.2573609e-01,\n",
              "        3.1395859e-01, 8.5235788e-03]], dtype=float32)"
            ]
          },
          "metadata": {
            "tags": []
          },
          "execution_count": 82
        }
      ]
    },
    {
      "cell_type": "code",
      "metadata": {
        "id": "8NpEP43HMLWF",
        "colab_type": "code",
        "colab": {
          "base_uri": "https://localhost:8080/",
          "height": 34
        },
        "outputId": "38638d9c-c60e-4a75-c263-a5fdbb7331fb"
      },
      "source": [
        "prediction.shape"
      ],
      "execution_count": null,
      "outputs": [
        {
          "output_type": "execute_result",
          "data": {
            "text/plain": [
              "(10000, 10)"
            ]
          },
          "metadata": {
            "tags": []
          },
          "execution_count": 83
        }
      ]
    },
    {
      "cell_type": "code",
      "metadata": {
        "id": "6in0DuSZLa2J",
        "colab_type": "code",
        "colab": {}
      },
      "source": [
        "pred=[]\n",
        "for i in range(0,10000):\n",
        "  pred.append(np.argmax(prediction[i]))\n",
        "  "
      ],
      "execution_count": null,
      "outputs": []
    },
    {
      "cell_type": "code",
      "metadata": {
        "id": "3c3u5F_T-LKB",
        "colab_type": "code",
        "colab": {
          "base_uri": "https://localhost:8080/",
          "height": 204
        },
        "outputId": "15851d5c-3c18-439d-a016-534db135bd60"
      },
      "source": [
        "sample_submission=pd.read_csv('/content/sample_submission.csv')\n",
        "sample_submission.head()"
      ],
      "execution_count": null,
      "outputs": [
        {
          "output_type": "execute_result",
          "data": {
            "text/html": [
              "<div>\n",
              "<style scoped>\n",
              "    .dataframe tbody tr th:only-of-type {\n",
              "        vertical-align: middle;\n",
              "    }\n",
              "\n",
              "    .dataframe tbody tr th {\n",
              "        vertical-align: top;\n",
              "    }\n",
              "\n",
              "    .dataframe thead th {\n",
              "        text-align: right;\n",
              "    }\n",
              "</style>\n",
              "<table border=\"1\" class=\"dataframe\">\n",
              "  <thead>\n",
              "    <tr style=\"text-align: right;\">\n",
              "      <th></th>\n",
              "      <th>id</th>\n",
              "      <th>label</th>\n",
              "    </tr>\n",
              "  </thead>\n",
              "  <tbody>\n",
              "    <tr>\n",
              "      <th>0</th>\n",
              "      <td>60001</td>\n",
              "      <td>0</td>\n",
              "    </tr>\n",
              "    <tr>\n",
              "      <th>1</th>\n",
              "      <td>60002</td>\n",
              "      <td>0</td>\n",
              "    </tr>\n",
              "    <tr>\n",
              "      <th>2</th>\n",
              "      <td>60003</td>\n",
              "      <td>0</td>\n",
              "    </tr>\n",
              "    <tr>\n",
              "      <th>3</th>\n",
              "      <td>60004</td>\n",
              "      <td>0</td>\n",
              "    </tr>\n",
              "    <tr>\n",
              "      <th>4</th>\n",
              "      <td>60005</td>\n",
              "      <td>0</td>\n",
              "    </tr>\n",
              "  </tbody>\n",
              "</table>\n",
              "</div>"
            ],
            "text/plain": [
              "      id  label\n",
              "0  60001      0\n",
              "1  60002      0\n",
              "2  60003      0\n",
              "3  60004      0\n",
              "4  60005      0"
            ]
          },
          "metadata": {
            "tags": []
          },
          "execution_count": 91
        }
      ]
    },
    {
      "cell_type": "code",
      "metadata": {
        "id": "wCzgOtJnNkFC",
        "colab_type": "code",
        "colab": {}
      },
      "source": [
        "submission=pd.DataFrame()\n",
        "submission['id']=sample_submission['id']\n",
        "submission['label']=pred\n"
      ],
      "execution_count": null,
      "outputs": []
    },
    {
      "cell_type": "code",
      "metadata": {
        "id": "JA2SKEmENk7I",
        "colab_type": "code",
        "colab": {
          "base_uri": "https://localhost:8080/",
          "height": 204
        },
        "outputId": "caca5f4e-0a63-4636-8339-eedfd5bd6b6c"
      },
      "source": [
        "submission.head()"
      ],
      "execution_count": null,
      "outputs": [
        {
          "output_type": "execute_result",
          "data": {
            "text/html": [
              "<div>\n",
              "<style scoped>\n",
              "    .dataframe tbody tr th:only-of-type {\n",
              "        vertical-align: middle;\n",
              "    }\n",
              "\n",
              "    .dataframe tbody tr th {\n",
              "        vertical-align: top;\n",
              "    }\n",
              "\n",
              "    .dataframe thead th {\n",
              "        text-align: right;\n",
              "    }\n",
              "</style>\n",
              "<table border=\"1\" class=\"dataframe\">\n",
              "  <thead>\n",
              "    <tr style=\"text-align: right;\">\n",
              "      <th></th>\n",
              "      <th>id</th>\n",
              "      <th>label</th>\n",
              "    </tr>\n",
              "  </thead>\n",
              "  <tbody>\n",
              "    <tr>\n",
              "      <th>0</th>\n",
              "      <td>60001</td>\n",
              "      <td>9</td>\n",
              "    </tr>\n",
              "    <tr>\n",
              "      <th>1</th>\n",
              "      <td>60002</td>\n",
              "      <td>2</td>\n",
              "    </tr>\n",
              "    <tr>\n",
              "      <th>2</th>\n",
              "      <td>60003</td>\n",
              "      <td>1</td>\n",
              "    </tr>\n",
              "    <tr>\n",
              "      <th>3</th>\n",
              "      <td>60004</td>\n",
              "      <td>1</td>\n",
              "    </tr>\n",
              "    <tr>\n",
              "      <th>4</th>\n",
              "      <td>60005</td>\n",
              "      <td>6</td>\n",
              "    </tr>\n",
              "  </tbody>\n",
              "</table>\n",
              "</div>"
            ],
            "text/plain": [
              "      id  label\n",
              "0  60001      9\n",
              "1  60002      2\n",
              "2  60003      1\n",
              "3  60004      1\n",
              "4  60005      6"
            ]
          },
          "metadata": {
            "tags": []
          },
          "execution_count": 97
        }
      ]
    },
    {
      "cell_type": "code",
      "metadata": {
        "id": "NVAkFRXKO-vH",
        "colab_type": "code",
        "colab": {}
      },
      "source": [
        "submission.to_csv('/content/submission.csv',index=False)"
      ],
      "execution_count": null,
      "outputs": []
    }
  ]
}