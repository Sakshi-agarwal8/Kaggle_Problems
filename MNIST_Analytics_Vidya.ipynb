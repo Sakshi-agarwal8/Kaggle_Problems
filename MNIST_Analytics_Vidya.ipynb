{
  "nbformat": 4,
  "nbformat_minor": 0,
  "metadata": {
    "colab": {
      "name": "MNIST - Analytics Vidya.ipynb",
      "provenance": [],
      "collapsed_sections": []
    },
    "kernelspec": {
      "name": "python3",
      "display_name": "Python 3"
    }
  },
  "cells": [
    {
      "cell_type": "markdown",
      "metadata": {
        "id": "Oy3sjqKUPb0s",
        "colab_type": "text"
      },
      "source": [
        "## Importing libraries"
      ]
    },
    {
      "cell_type": "code",
      "metadata": {
        "id": "RyiQgWKfz9gi",
        "colab_type": "code",
        "colab": {}
      },
      "source": [
        "import numpy as np\n",
        "import pandas as pd"
      ],
      "execution_count": null,
      "outputs": []
    },
    {
      "cell_type": "markdown",
      "metadata": {
        "id": "usqHFZlEPiF8",
        "colab_type": "text"
      },
      "source": [
        "## Making new directory"
      ]
    },
    {
      "cell_type": "code",
      "metadata": {
        "id": "cWg43HTRh174",
        "colab_type": "code",
        "colab": {}
      },
      "source": [
        "!mkdir mnist_test\n",
        "!mkdir mnist_train"
      ],
      "execution_count": null,
      "outputs": []
    },
    {
      "cell_type": "markdown",
      "metadata": {
        "id": "dp6_P3iyPnhK",
        "colab_type": "text"
      },
      "source": [
        "## Unziping the data"
      ]
    },
    {
      "cell_type": "code",
      "metadata": {
        "id": "S_NairuD3NdB",
        "colab_type": "code",
        "colab": {}
      },
      "source": [
        "!unzip test.zip -d mnist_test"
      ],
      "execution_count": null,
      "outputs": []
    },
    {
      "cell_type": "code",
      "metadata": {
        "id": "XBLi61tZiXnc",
        "colab_type": "code",
        "colab": {}
      },
      "source": [
        "!unzip train.zip -d mnist_train"
      ],
      "execution_count": null,
      "outputs": []
    },
    {
      "cell_type": "markdown",
      "metadata": {
        "id": "uv3BJDASPuz6",
        "colab_type": "text"
      },
      "source": [
        "## Images in the train and test set "
      ]
    },
    {
      "cell_type": "code",
      "metadata": {
        "id": "JeJeyGW8i9Bz",
        "colab_type": "code",
        "colab": {
          "base_uri": "https://localhost:8080/",
          "height": 51
        },
        "outputId": "bca772cb-3319-41b6-9031-0f8e7913913d"
      },
      "source": [
        "import os\n",
        "\n",
        "print(len(os.listdir('/content/mnist_train/train')))\n",
        "print(len(os.listdir('/content/mnist_test/test')))"
      ],
      "execution_count": null,
      "outputs": [
        {
          "output_type": "stream",
          "text": [
            "49000\n",
            "21000\n"
          ],
          "name": "stdout"
        }
      ]
    },
    {
      "cell_type": "code",
      "metadata": {
        "id": "pA-xvSSEnSqe",
        "colab_type": "code",
        "colab": {}
      },
      "source": [
        "train=pd.read_csv('/content/train.csv')\n",
        "test=pd.read_csv('/content/Test.csv')\n"
      ],
      "execution_count": null,
      "outputs": []
    },
    {
      "cell_type": "code",
      "metadata": {
        "id": "buZBgrDtoubz",
        "colab_type": "code",
        "colab": {
          "base_uri": "https://localhost:8080/",
          "height": 204
        },
        "outputId": "9a08d61b-a441-40c1-ec2e-1c7c2f0f60dc"
      },
      "source": [
        "train.head()"
      ],
      "execution_count": null,
      "outputs": [
        {
          "output_type": "execute_result",
          "data": {
            "text/html": [
              "<div>\n",
              "<style scoped>\n",
              "    .dataframe tbody tr th:only-of-type {\n",
              "        vertical-align: middle;\n",
              "    }\n",
              "\n",
              "    .dataframe tbody tr th {\n",
              "        vertical-align: top;\n",
              "    }\n",
              "\n",
              "    .dataframe thead th {\n",
              "        text-align: right;\n",
              "    }\n",
              "</style>\n",
              "<table border=\"1\" class=\"dataframe\">\n",
              "  <thead>\n",
              "    <tr style=\"text-align: right;\">\n",
              "      <th></th>\n",
              "      <th>filename</th>\n",
              "      <th>label</th>\n",
              "    </tr>\n",
              "  </thead>\n",
              "  <tbody>\n",
              "    <tr>\n",
              "      <th>0</th>\n",
              "      <td>0.png</td>\n",
              "      <td>4</td>\n",
              "    </tr>\n",
              "    <tr>\n",
              "      <th>1</th>\n",
              "      <td>1.png</td>\n",
              "      <td>9</td>\n",
              "    </tr>\n",
              "    <tr>\n",
              "      <th>2</th>\n",
              "      <td>2.png</td>\n",
              "      <td>1</td>\n",
              "    </tr>\n",
              "    <tr>\n",
              "      <th>3</th>\n",
              "      <td>3.png</td>\n",
              "      <td>7</td>\n",
              "    </tr>\n",
              "    <tr>\n",
              "      <th>4</th>\n",
              "      <td>4.png</td>\n",
              "      <td>3</td>\n",
              "    </tr>\n",
              "  </tbody>\n",
              "</table>\n",
              "</div>"
            ],
            "text/plain": [
              "  filename  label\n",
              "0    0.png      4\n",
              "1    1.png      9\n",
              "2    2.png      1\n",
              "3    3.png      7\n",
              "4    4.png      3"
            ]
          },
          "metadata": {
            "tags": []
          },
          "execution_count": 10
        }
      ]
    },
    {
      "cell_type": "code",
      "metadata": {
        "id": "1uDCjeYhpRMq",
        "colab_type": "code",
        "colab": {
          "base_uri": "https://localhost:8080/",
          "height": 34
        },
        "outputId": "95d0e978-aa1d-405f-b5ed-4b699668cfca"
      },
      "source": [
        "train.label.unique()"
      ],
      "execution_count": null,
      "outputs": [
        {
          "output_type": "execute_result",
          "data": {
            "text/plain": [
              "array([4, 9, 1, 7, 3, 2, 6, 0, 8, 5])"
            ]
          },
          "metadata": {
            "tags": []
          },
          "execution_count": 11
        }
      ]
    },
    {
      "cell_type": "code",
      "metadata": {
        "id": "XU2Qcqa0sYcF",
        "colab_type": "code",
        "colab": {}
      },
      "source": [
        "train.label=train.label.astype(str)"
      ],
      "execution_count": null,
      "outputs": []
    },
    {
      "cell_type": "code",
      "metadata": {
        "id": "_8HctbQ6owqe",
        "colab_type": "code",
        "colab": {
          "base_uri": "https://localhost:8080/",
          "height": 204
        },
        "outputId": "9fe4c7a9-967a-4399-f928-efa331f0bbd0"
      },
      "source": [
        "test.head()"
      ],
      "execution_count": null,
      "outputs": [
        {
          "output_type": "execute_result",
          "data": {
            "text/html": [
              "<div>\n",
              "<style scoped>\n",
              "    .dataframe tbody tr th:only-of-type {\n",
              "        vertical-align: middle;\n",
              "    }\n",
              "\n",
              "    .dataframe tbody tr th {\n",
              "        vertical-align: top;\n",
              "    }\n",
              "\n",
              "    .dataframe thead th {\n",
              "        text-align: right;\n",
              "    }\n",
              "</style>\n",
              "<table border=\"1\" class=\"dataframe\">\n",
              "  <thead>\n",
              "    <tr style=\"text-align: right;\">\n",
              "      <th></th>\n",
              "      <th>filename</th>\n",
              "    </tr>\n",
              "  </thead>\n",
              "  <tbody>\n",
              "    <tr>\n",
              "      <th>0</th>\n",
              "      <td>49000.png</td>\n",
              "    </tr>\n",
              "    <tr>\n",
              "      <th>1</th>\n",
              "      <td>49001.png</td>\n",
              "    </tr>\n",
              "    <tr>\n",
              "      <th>2</th>\n",
              "      <td>49002.png</td>\n",
              "    </tr>\n",
              "    <tr>\n",
              "      <th>3</th>\n",
              "      <td>49003.png</td>\n",
              "    </tr>\n",
              "    <tr>\n",
              "      <th>4</th>\n",
              "      <td>49004.png</td>\n",
              "    </tr>\n",
              "  </tbody>\n",
              "</table>\n",
              "</div>"
            ],
            "text/plain": [
              "    filename\n",
              "0  49000.png\n",
              "1  49001.png\n",
              "2  49002.png\n",
              "3  49003.png\n",
              "4  49004.png"
            ]
          },
          "metadata": {
            "tags": []
          },
          "execution_count": 20
        }
      ]
    },
    {
      "cell_type": "markdown",
      "metadata": {
        "id": "-7LcHfuGP5QD",
        "colab_type": "text"
      },
      "source": [
        "## Using data flow from dataframe and model builidng"
      ]
    },
    {
      "cell_type": "code",
      "metadata": {
        "id": "3V-X5a7WjxRD",
        "colab_type": "code",
        "colab": {
          "base_uri": "https://localhost:8080/",
          "height": 408
        },
        "outputId": "a01f52ae-a311-4fb1-f180-ed3f8a42f117"
      },
      "source": [
        "# flow from dataframe\n",
        "\n",
        "import keras\n",
        "from keras.preprocessing.image import ImageDataGenerator\n",
        "from keras.layers import Dense, Flatten,Conv2D,MaxPooling2D\n",
        "from keras.models import Sequential\n",
        "\n",
        "\n",
        "train_datagen=ImageDataGenerator(rescale=1.0/255.0,validation_split=0.20)\n",
        "test_datagen=ImageDataGenerator(rescale=1.0/255.0)\n",
        "\n",
        "train_generator= train_datagen.flow_from_dataframe(dataframe=train,directory='/content/mnist_train/train',\n",
        "                                                   x_col='filename',\n",
        "                                                   y_col='label',\n",
        "                                                   seed=7,\n",
        "                                                   shuffle=True,\n",
        "                                                   subset='training',\n",
        "                                                   class_mode='categorical',\n",
        "                                                   target_size=(28,28),batch_size=32)\n",
        "\n",
        "test_generator= test_datagen.flow_from_dataframe(dataframe=test,directory='/content/mnist_test/test',\n",
        "                                                   x_col='filename',\n",
        "                                                   y_col='label',\n",
        "                                                   seed=7,\n",
        "                                                   shuffle=False,\n",
        "                                                   class_mode=None,\n",
        "                                                   target_size=(28,28),batch_size=32)\n",
        "\n",
        "val_generator= train_datagen.flow_from_dataframe(dataframe=train,directory='/content/mnist_train/train',\n",
        "                                                   x_col='filename',\n",
        "                                                   y_col='label',\n",
        "                                                   seed=7,\n",
        "                                                   shuffle=True,\n",
        "                                                   subset='validation',\n",
        "                                                   class_mode='categorical',\n",
        "                                                   target_size=(28,28),batch_size=32)\n",
        "\n",
        "\n",
        "model=Sequential([Conv2D(32,(3,3),activation='relu',input_shape=(28,28,3),padding='same'),\n",
        "                  MaxPooling2D(),\n",
        "                  Flatten(),\n",
        "                  Dense(1000,activation='relu'),\n",
        "                  Dense(512,activation='relu'),\n",
        "                  Dense(10,activation='softmax')])\n",
        "model.compile(optimizer='sgd',loss='categorical_crossentropy',metrics=['accuracy'])\n",
        "model.summary()\n"
      ],
      "execution_count": null,
      "outputs": [
        {
          "output_type": "stream",
          "text": [
            "Found 39200 validated image filenames belonging to 10 classes.\n",
            "Found 21000 validated image filenames.\n",
            "Found 9800 validated image filenames belonging to 10 classes.\n",
            "Model: \"sequential_2\"\n",
            "_________________________________________________________________\n",
            "Layer (type)                 Output Shape              Param #   \n",
            "=================================================================\n",
            "conv2d_2 (Conv2D)            (None, 28, 28, 32)        896       \n",
            "_________________________________________________________________\n",
            "max_pooling2d_2 (MaxPooling2 (None, 14, 14, 32)        0         \n",
            "_________________________________________________________________\n",
            "flatten_2 (Flatten)          (None, 6272)              0         \n",
            "_________________________________________________________________\n",
            "dense_6 (Dense)              (None, 1000)              6273000   \n",
            "_________________________________________________________________\n",
            "dense_7 (Dense)              (None, 512)               512512    \n",
            "_________________________________________________________________\n",
            "dense_8 (Dense)              (None, 10)                5130      \n",
            "=================================================================\n",
            "Total params: 6,791,538\n",
            "Trainable params: 6,791,538\n",
            "Non-trainable params: 0\n",
            "_________________________________________________________________\n"
          ],
          "name": "stdout"
        }
      ]
    },
    {
      "cell_type": "markdown",
      "metadata": {
        "id": "i5eqv6ZUQEys",
        "colab_type": "text"
      },
      "source": [
        "## Training the model"
      ]
    },
    {
      "cell_type": "code",
      "metadata": {
        "id": "QNAVJulVmdBg",
        "colab_type": "code",
        "colab": {
          "base_uri": "https://localhost:8080/",
          "height": 357
        },
        "outputId": "e6720dca-93b4-4f1a-ba55-bc73573730b8"
      },
      "source": [
        "history=model.fit(train_generator,epochs=10,verbose=1,validation_data=val_generator)"
      ],
      "execution_count": null,
      "outputs": [
        {
          "output_type": "stream",
          "text": [
            "Epoch 1/10\n",
            "1225/1225 [==============================] - 100s 82ms/step - loss: 0.4292 - accuracy: 0.8834 - val_loss: 0.2019 - val_accuracy: 0.9400\n",
            "Epoch 2/10\n",
            "1225/1225 [==============================] - 99s 81ms/step - loss: 0.1678 - accuracy: 0.9511 - val_loss: 0.1520 - val_accuracy: 0.9543\n",
            "Epoch 3/10\n",
            "1225/1225 [==============================] - 100s 82ms/step - loss: 0.1227 - accuracy: 0.9624 - val_loss: 0.1210 - val_accuracy: 0.9628\n",
            "Epoch 4/10\n",
            "1225/1225 [==============================] - 100s 81ms/step - loss: 0.0952 - accuracy: 0.9720 - val_loss: 0.1043 - val_accuracy: 0.9669\n",
            "Epoch 5/10\n",
            "1225/1225 [==============================] - 100s 82ms/step - loss: 0.0781 - accuracy: 0.9760 - val_loss: 0.0929 - val_accuracy: 0.9711\n",
            "Epoch 6/10\n",
            "1225/1225 [==============================] - 100s 82ms/step - loss: 0.0653 - accuracy: 0.9806 - val_loss: 0.0816 - val_accuracy: 0.9747\n",
            "Epoch 7/10\n",
            "1225/1225 [==============================] - 99s 81ms/step - loss: 0.0553 - accuracy: 0.9828 - val_loss: 0.0732 - val_accuracy: 0.9764\n",
            "Epoch 8/10\n",
            "1225/1225 [==============================] - 99s 81ms/step - loss: 0.0474 - accuracy: 0.9857 - val_loss: 0.0697 - val_accuracy: 0.9768\n",
            "Epoch 9/10\n",
            "1225/1225 [==============================] - 104s 85ms/step - loss: 0.0404 - accuracy: 0.9879 - val_loss: 0.0671 - val_accuracy: 0.9783\n",
            "Epoch 10/10\n",
            "1225/1225 [==============================] - 100s 82ms/step - loss: 0.0361 - accuracy: 0.9894 - val_loss: 0.0655 - val_accuracy: 0.9777\n"
          ],
          "name": "stdout"
        }
      ]
    },
    {
      "cell_type": "markdown",
      "metadata": {
        "id": "wQq9CFwCQIjk",
        "colab_type": "text"
      },
      "source": [
        "## Evaluation on validation data"
      ]
    },
    {
      "cell_type": "code",
      "metadata": {
        "id": "ah5P1WPMtAEi",
        "colab_type": "code",
        "colab": {
          "base_uri": "https://localhost:8080/",
          "height": 85
        },
        "outputId": "f40d2ebc-c127-44df-ec23-8a69600666d9"
      },
      "source": [
        "model.evaluate_generator(val_generator)"
      ],
      "execution_count": null,
      "outputs": [
        {
          "output_type": "stream",
          "text": [
            "WARNING:tensorflow:From <ipython-input-14-3fe684a8f5c5>:2: Model.evaluate_generator (from tensorflow.python.keras.engine.training) is deprecated and will be removed in a future version.\n",
            "Instructions for updating:\n",
            "Please use Model.evaluate, which supports generators.\n"
          ],
          "name": "stdout"
        },
        {
          "output_type": "execute_result",
          "data": {
            "text/plain": [
              "[0.065483458340168, 0.9776530861854553]"
            ]
          },
          "metadata": {
            "tags": []
          },
          "execution_count": 14
        }
      ]
    },
    {
      "cell_type": "markdown",
      "metadata": {
        "id": "vr1XdMgDQM6D",
        "colab_type": "text"
      },
      "source": [
        "## Predictions on test images"
      ]
    },
    {
      "cell_type": "code",
      "metadata": {
        "id": "IBqPFoLkwZhr",
        "colab_type": "code",
        "colab": {
          "base_uri": "https://localhost:8080/",
          "height": 289
        },
        "outputId": "6c5087e7-cf5e-454f-c4d1-ffd433f65064"
      },
      "source": [
        "prediction=model.predict_generator(test_generator)\n",
        "prediction"
      ],
      "execution_count": null,
      "outputs": [
        {
          "output_type": "stream",
          "text": [
            "WARNING:tensorflow:From <ipython-input-16-06cb947072da>:1: Model.predict_generator (from tensorflow.python.keras.engine.training) is deprecated and will be removed in a future version.\n",
            "Instructions for updating:\n",
            "Please use Model.predict, which supports generators.\n"
          ],
          "name": "stdout"
        },
        {
          "output_type": "execute_result",
          "data": {
            "text/plain": [
              "array([[5.97509056e-11, 2.06240892e-11, 5.05024356e-10, ...,\n",
              "        5.13266855e-07, 5.45950063e-10, 2.38546272e-09],\n",
              "       [9.51697707e-01, 1.22449865e-05, 3.93448994e-02, ...,\n",
              "        7.43489290e-05, 4.69653588e-03, 3.35158128e-03],\n",
              "       [4.70837898e-04, 8.33208219e-07, 4.63897959e-05, ...,\n",
              "        3.51912603e-02, 1.50952517e-04, 8.64626586e-01],\n",
              "       ...,\n",
              "       [6.57906241e-07, 1.32646633e-07, 3.39706094e-06, ...,\n",
              "        1.45432919e-08, 3.14862591e-05, 2.75041367e-09],\n",
              "       [4.13936718e-10, 1.95406269e-08, 4.41152270e-06, ...,\n",
              "        2.63561475e-08, 8.36389802e-08, 9.78840620e-12],\n",
              "       [3.11520921e-06, 5.04484376e-07, 9.99824703e-01, ...,\n",
              "        2.25828938e-08, 2.46526022e-09, 8.45165804e-09]], dtype=float32)"
            ]
          },
          "metadata": {
            "tags": []
          },
          "execution_count": 16
        }
      ]
    },
    {
      "cell_type": "code",
      "metadata": {
        "id": "8NpEP43HMLWF",
        "colab_type": "code",
        "colab": {
          "base_uri": "https://localhost:8080/",
          "height": 34
        },
        "outputId": "7567103d-dcf4-4ee2-a168-2cc913ae1b99"
      },
      "source": [
        "prediction.shape"
      ],
      "execution_count": null,
      "outputs": [
        {
          "output_type": "execute_result",
          "data": {
            "text/plain": [
              "(21000, 10)"
            ]
          },
          "metadata": {
            "tags": []
          },
          "execution_count": 22
        }
      ]
    },
    {
      "cell_type": "code",
      "metadata": {
        "id": "6in0DuSZLa2J",
        "colab_type": "code",
        "colab": {}
      },
      "source": [
        "pred=[]\n",
        "for i in range(0,21000):\n",
        "  pred.append(np.argmax(prediction[i]))\n",
        "  "
      ],
      "execution_count": null,
      "outputs": []
    },
    {
      "cell_type": "code",
      "metadata": {
        "id": "wCzgOtJnNkFC",
        "colab_type": "code",
        "colab": {}
      },
      "source": [
        "submission=pd.DataFrame()\n",
        "submission['filename']=test['filename']\n",
        "submission['label']=pred\n"
      ],
      "execution_count": null,
      "outputs": []
    },
    {
      "cell_type": "code",
      "metadata": {
        "id": "JA2SKEmENk7I",
        "colab_type": "code",
        "colab": {
          "base_uri": "https://localhost:8080/",
          "height": 204
        },
        "outputId": "d4bce724-cdb5-46a6-ac1f-1e46a800940f"
      },
      "source": [
        "submission.head()"
      ],
      "execution_count": null,
      "outputs": [
        {
          "output_type": "execute_result",
          "data": {
            "text/html": [
              "<div>\n",
              "<style scoped>\n",
              "    .dataframe tbody tr th:only-of-type {\n",
              "        vertical-align: middle;\n",
              "    }\n",
              "\n",
              "    .dataframe tbody tr th {\n",
              "        vertical-align: top;\n",
              "    }\n",
              "\n",
              "    .dataframe thead th {\n",
              "        text-align: right;\n",
              "    }\n",
              "</style>\n",
              "<table border=\"1\" class=\"dataframe\">\n",
              "  <thead>\n",
              "    <tr style=\"text-align: right;\">\n",
              "      <th></th>\n",
              "      <th>filename</th>\n",
              "      <th>label</th>\n",
              "    </tr>\n",
              "  </thead>\n",
              "  <tbody>\n",
              "    <tr>\n",
              "      <th>0</th>\n",
              "      <td>49000.png</td>\n",
              "      <td>4</td>\n",
              "    </tr>\n",
              "    <tr>\n",
              "      <th>1</th>\n",
              "      <td>49001.png</td>\n",
              "      <td>0</td>\n",
              "    </tr>\n",
              "    <tr>\n",
              "      <th>2</th>\n",
              "      <td>49002.png</td>\n",
              "      <td>9</td>\n",
              "    </tr>\n",
              "    <tr>\n",
              "      <th>3</th>\n",
              "      <td>49003.png</td>\n",
              "      <td>7</td>\n",
              "    </tr>\n",
              "    <tr>\n",
              "      <th>4</th>\n",
              "      <td>49004.png</td>\n",
              "      <td>9</td>\n",
              "    </tr>\n",
              "  </tbody>\n",
              "</table>\n",
              "</div>"
            ],
            "text/plain": [
              "    filename  label\n",
              "0  49000.png      4\n",
              "1  49001.png      0\n",
              "2  49002.png      9\n",
              "3  49003.png      7\n",
              "4  49004.png      9"
            ]
          },
          "metadata": {
            "tags": []
          },
          "execution_count": 46
        }
      ]
    },
    {
      "cell_type": "code",
      "metadata": {
        "id": "NVAkFRXKO-vH",
        "colab_type": "code",
        "colab": {}
      },
      "source": [
        "submission.to_csv('/content/submission.csv')"
      ],
      "execution_count": null,
      "outputs": []
    }
  ]
}